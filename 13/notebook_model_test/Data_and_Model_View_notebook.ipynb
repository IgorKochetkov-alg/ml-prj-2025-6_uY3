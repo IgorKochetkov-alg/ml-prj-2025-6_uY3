{
 "cells": [
  {
   "cell_type": "markdown",
   "id": "95261469",
   "metadata": {},
   "source": [
    "Прочитаем файл .mat"
   ]
  },
  {
   "cell_type": "code",
   "execution_count": 18,
   "id": "e11fd4ec",
   "metadata": {},
   "outputs": [],
   "source": [
    "import scipy\n",
    "import numpy as np\n",
    "import pandas as pd\n",
    "\n",
    "data = scipy.io.loadmat(\"../sources/Buckley_Swc_0_Sor_0_M_2.mat\")"
   ]
  },
  {
   "cell_type": "code",
   "execution_count": 25,
   "id": "046805b3",
   "metadata": {},
   "outputs": [
    {
     "name": "stdout",
     "output_type": "stream",
     "text": [
      "dict_keys(['__header__', '__version__', '__globals__', 't', 'usol', 'x'])\n"
     ]
    }
   ],
   "source": [
    "print(data.keys())"
   ]
  },
  {
   "cell_type": "code",
   "execution_count": 24,
   "id": "03718305",
   "metadata": {},
   "outputs": [
    {
     "name": "stdout",
     "output_type": "stream",
     "text": [
      "[[1.         1.         1.         ... 1.         1.         1.        ]\n",
      " [0.         0.79307931 0.86958696 ... 0.99609961 0.99609961 0.99619962]\n",
      " [0.         0.69046905 0.79307931 ... 0.99219922 0.99229923 0.99239924]\n",
      " ...\n",
      " [0.         0.         0.         ... 0.64216422 0.64416442 0.64616462]\n",
      " [0.         0.         0.         ... 0.64146415 0.64346435 0.64536454]\n",
      " [0.         0.         0.         ... 0.64066407 0.64266427 0.64466447]]\n"
     ]
    }
   ],
   "source": [
    "print(data['usol'])"
   ]
  },
  {
   "cell_type": "code",
   "execution_count": null,
   "id": "cc23ca0d",
   "metadata": {},
   "outputs": [],
   "source": [
    "t = data['t'].flatten()[:,None]\n",
    "x = data['x'].flatten()[:,None]\n",
    "value = np.real(data['usol']).T"
   ]
  },
  {
   "cell_type": "code",
   "execution_count": 28,
   "id": "335a0b93",
   "metadata": {},
   "outputs": [],
   "source": [
    "import matplotlib.pyplot as plt"
   ]
  },
  {
   "cell_type": "code",
   "execution_count": null,
   "id": "dbbfa8e6",
   "metadata": {},
   "outputs": [],
   "source": [
    "def simple_plot_x_slices(x, t, value):\n",
    "    \n",
    "    plt.figure(figsize=(12, 8))\n",
    "    \n",
    "    for i in range(len(t)):\n",
    "        plt.plot(x, value[i, :], alpha=0.7, linewidth=0.8)\n",
    "    \n",
    "        plt.xlabel('x', fontsize=14)\n",
    "        plt.ylabel('u(x,t)', fontsize=14)\n",
    "        plt.title(f\"Время {t[i]} с\", fontsize=16)\n",
    "        plt.grid(True, alpha=0.3)\n",
    "        plt.show()"
   ]
  },
  {
   "cell_type": "code",
   "execution_count": null,
   "id": "e3d36e99",
   "metadata": {},
   "outputs": [
    {
     "ename": "TypeError",
     "evalue": "simple_plot_x_slices() missing 2 required positional arguments: 't' and 'value'",
     "output_type": "error",
     "traceback": [
      "\u001b[31m---------------------------------------------------------------------------\u001b[39m",
      "\u001b[31mTypeError\u001b[39m                                 Traceback (most recent call last)",
      "\u001b[36mCell\u001b[39m\u001b[36m \u001b[39m\u001b[32mIn[38]\u001b[39m\u001b[32m, line 1\u001b[39m\n\u001b[32m----> \u001b[39m\u001b[32m1\u001b[39m \u001b[43msimple_plot_x_slices\u001b[49m\u001b[43m(\u001b[49m\u001b[43mdata\u001b[49m\u001b[43m)\u001b[49m\n",
      "\u001b[31mTypeError\u001b[39m: simple_plot_x_slices() missing 2 required positional arguments: 't' and 'value'"
     ]
    }
   ],
   "source": [
    "simple_plot_x_slices(x, t, value)"
   ]
  }
 ],
 "metadata": {
  "kernelspec": {
   "display_name": "Python 3",
   "language": "python",
   "name": "python3"
  },
  "language_info": {
   "codemirror_mode": {
    "name": "ipython",
    "version": 3
   },
   "file_extension": ".py",
   "mimetype": "text/x-python",
   "name": "python",
   "nbconvert_exporter": "python",
   "pygments_lexer": "ipython3",
   "version": "3.13.2"
  }
 },
 "nbformat": 4,
 "nbformat_minor": 5
}
